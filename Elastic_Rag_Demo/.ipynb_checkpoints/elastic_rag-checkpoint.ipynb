{
 "cells": [
  {
   "cell_type": "code",
   "execution_count": null,
   "id": "a1597fb2-dceb-4da4-a79f-f3be3929470d",
   "metadata": {},
   "outputs": [],
   "source": [
    "def build_context(documents):\n",
    "    context = \"\"\n",
    "\n",
    "    for doc in documents:\n",
    "        doc_str = f\"Section: {doc['section']}\\nQuestion: {doc['question']}\\nAnswer: {doc['text']}\\n\\n\"\n",
    "        context += doc_str\n",
    "    \n",
    "    context = context.strip()\n",
    "    return context\n",
    "\n",
    "\n",
    "def build_prompt(user_question, documents):\n",
    "    context = build_context(documents)\n",
    "    return f\"\"\"\n",
    "You're a course teaching assistant.\n",
    "Answer the user QUESTION based on CONTEXT - the documents retrieved from our FAQ database.\n",
    "Don't use other information outside of the provided CONTEXT.  \n",
    "\n",
    "QUESTION: {user_question}\n",
    "\n",
    "CONTEXT:\n",
    "\n",
    "{context}\n",
    "\"\"\".strip()\n",
    "\n",
    "def ask_openai(prompt, model=\"gpt-3.5-turbo\"):\n",
    "    response = client.chat.completions.create(\n",
    "        model=\"gpt-3.5-turbo\",\n",
    "        messages=[{\"role\": \"user\", \"content\": prompt}]\n",
    "    )\n",
    "    answer = response.choices[0].message.content\n",
    "    return answer\n",
    "\n",
    "def qa_bot(user_question):\n",
    "    context_docs = retrieve_documents(user_question)\n",
    "    prompt = build_prompt(user_question, context_docs)\n",
    "    answer = ask_openai(prompt)\n",
    "    return answer"
   ]
  },
  {
   "cell_type": "code",
   "execution_count": null,
   "id": "63352424-3656-4842-ab57-d550a439e010",
   "metadata": {},
   "outputs": [],
   "source": [
    "qa_bot(\"I'm getting invalid reference format: repository name must be lowercase\")\n",
    "\n",
    "qa_bot(\"I can't connect to postgres port 5432, my password doesn't work\")\n",
    "\n",
    "qa_bot(\"how can I run kafka?\")"
   ]
  }
 ],
 "metadata": {
  "kernelspec": {
   "display_name": "Python 3 (ipykernel)",
   "language": "python",
   "name": "python3"
  },
  "language_info": {
   "codemirror_mode": {
    "name": "ipython",
    "version": 3
   },
   "file_extension": ".py",
   "mimetype": "text/x-python",
   "name": "python",
   "nbconvert_exporter": "python",
   "pygments_lexer": "ipython3",
   "version": "3.10.13"
  }
 },
 "nbformat": 4,
 "nbformat_minor": 5
}
